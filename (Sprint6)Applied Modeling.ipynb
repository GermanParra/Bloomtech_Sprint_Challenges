{
  "nbformat": 4,
  "nbformat_minor": 0,
  "metadata": {
    "kernelspec": {
      "display_name": "Python 3",
      "language": "python",
      "name": "python3"
    },
    "language_info": {
      "codemirror_mode": {
        "name": "ipython",
        "version": 3
      },
      "file_extension": ".py",
      "mimetype": "text/x-python",
      "name": "python",
      "nbconvert_exporter": "python",
      "pygments_lexer": "ipython3",
      "version": "3.8.5"
    },
    "colab": {
      "name": "ds_sprint_challenge_23.ipynb",
      "provenance": [],
      "collapsed_sections": []
    }
  },
  "cells": [
    {
      "cell_type": "markdown",
      "metadata": {
        "deletable": false,
        "editable": false,
        "nbgrader": {
          "cell_type": "markdown",
          "checksum": "26331cfec4792162c2f8fe9b562702d2",
          "grade": false,
          "grade_id": "cell-f2b2468124042cfe",
          "locked": true,
          "schema_version": 3,
          "solution": false,
          "task": false
        },
        "id": "_1dIhYBX3y3v"
      },
      "source": [
        "_Lambda School Data Science, Unit 2_\n",
        "\n",
        "---\n",
        "\n",
        "👇 **Do not change the code in this cell.** If you're working in Google Colab, you can run this cell to install `category_encoders` and `pdpbox`."
      ]
    },
    {
      "cell_type": "code",
      "metadata": {
        "deletable": false,
        "editable": false,
        "nbgrader": {
          "cell_type": "code",
          "checksum": "6e84593629f1e735cc6423e463199480",
          "grade": false,
          "grade_id": "cell-656c869f2d287493",
          "locked": true,
          "schema_version": 3,
          "solution": false,
          "task": false
        },
        "id": "k861QNgc3y32"
      },
      "source": [
        "%%capture\n",
        "import sys\n",
        "\n",
        "if 'google.colab' in sys.modules:\n",
        "    !pip install category_encoders\n",
        "    !pip install pdpbox"
      ],
      "execution_count": 1,
      "outputs": []
    },
    {
      "cell_type": "markdown",
      "metadata": {
        "deletable": false,
        "editable": false,
        "nbgrader": {
          "cell_type": "markdown",
          "checksum": "be6f7489d8b09d515eed676f06ac2d3b",
          "grade": false,
          "grade_id": "cell-dbdc2fe26ba31738",
          "locked": true,
          "schema_version": 3,
          "solution": false,
          "task": false
        },
        "id": "DZ3e9jcu3y34"
      },
      "source": [
        "# Sprint Challenge: Predict Chicago Food Inspections 🍕\n",
        "\n",
        "In this challenge, you'll use data from the [Chicago Department of Public Health](https://www.chicago.gov/city/en/depts/cdph/provdrs/healthy_restaurants/svcs/food-protection-services.html) to build a model to predict whether a food establishment passed inspection or not.\n",
        "\n",
        "The purpose of this model is to help inspectors use their time more efficiently by identifying establishments that will likely fail inspection. In other words, this model should be able to predict whether an establishment will fail inspection *before* the inspector arrives at the establishment. \n",
        "\n",
        "# Directions\n",
        "\n",
        "This notebook contains 12 tasks, which cover the material we've learned in this sprint. Here's a summary:\n",
        "\n",
        "- **Task 1:** Importing data.\n",
        "- **Task 2:** Identifying data leakage.\n",
        "- **Task 3:** Writing a wrangle function.\n",
        "- **Task 4:** Splitting data into a feature matrix and target vector.\n",
        "- **Task 5:** Splitting data into training and validation sets.\n",
        "- **Task 6:** Establishing baseline accuracy.\n",
        "- **Task 7:** Building model with bagging predictor.\n",
        "- **Task 8:** Building model with boosting predictor.\n",
        "- **Task 9 (`stretch goal`):** Plotting ROC curves.\n",
        "- **Task 10:** Generating classification report.\n",
        "- **Task 11:** Calculating permutation importances.\n",
        "- **Task 12 (`stretch goal`):** Creating PDP interaction plot.\n",
        "\n",
        "For each task you should do the following:\n",
        "\n",
        "- Read the task instructions.\n",
        "- Write your code in the cell below the task. Delete the `raise NotImplementedError` before your start.\n",
        "- Run the testing cell below the task. If you get an error, read the error message and re-evaluate your code.\n",
        "\n",
        "**You should limit your code to the following libraries:**\n",
        "\n",
        "- `category_encoders`\n",
        "- `numpy`\n",
        "- `matplotlib`\n",
        "- `pandas`\n",
        "- `pdpbox`\n",
        "- `sklearn`\n",
        "- `xgboost`\n",
        "\n",
        "**A word of warning:** The virtual machine that will check your answers is small. So, where applicable, don't use huge values for `n_estimators` (`>100`) or `n_jobs` (keep at `-1`). \n",
        "\n",
        "If you'd like to import all your libraries at the start of your notebook, you can do so in the code block below 👇"
      ]
    },
    {
      "cell_type": "code",
      "metadata": {
        "deletable": false,
        "nbgrader": {
          "cell_type": "code",
          "checksum": "313c53b0dc59a11bb7bfaefbf995fe2c",
          "grade": false,
          "grade_id": "cell-44be413734e30691",
          "locked": false,
          "schema_version": 3,
          "solution": true,
          "task": false
        },
        "id": "J3_d8htu3y35"
      },
      "source": [
        "# YOUR CODE HERE\n",
        "import pandas as pd\n",
        "import numpy as np\n",
        "from sklearn.ensemble import RandomForestClassifier\n",
        "from xgboost import XGBClassifier\n",
        "from category_encoders import OneHotEncoder, OrdinalEncoder\n",
        "from sklearn.pipeline import make_pipeline\n",
        "from sklearn.impute import SimpleImputer\n",
        "\n",
        "from sklearn.metrics import roc_curve, plot_confusion_matrix, plot_roc_curve,roc_auc_score, mean_absolute_error\n",
        "from sklearn.inspection import permutation_importance\n",
        "\n",
        "import matplotlib.pyplot as plt\n",
        "from pdpbox.pdp import pdp_isolate, pdp_plot, pdp_interact, pdp_interact_plot"
      ],
      "execution_count": 192,
      "outputs": []
    },
    {
      "cell_type": "markdown",
      "metadata": {
        "deletable": false,
        "editable": false,
        "nbgrader": {
          "cell_type": "markdown",
          "checksum": "48dd82293df0d9af1aa7efac7f7468fa",
          "grade": false,
          "grade_id": "cell-602d346d44303e87",
          "locked": true,
          "schema_version": 3,
          "solution": false,
          "task": false
        },
        "id": "qwqgby203y35"
      },
      "source": [
        "# I. Wrangle Data\n",
        "\n",
        "**Task 1:** Change the code below to import your dataset. Be sure to examine the columns carefully and determine if one of them should be set as the index."
      ]
    },
    {
      "cell_type": "code",
      "metadata": {
        "deletable": false,
        "nbgrader": {
          "cell_type": "code",
          "checksum": "dafd956974169191567e3544c18186a5",
          "grade": false,
          "grade_id": "cell-8b9246d8d97a80ff",
          "locked": false,
          "schema_version": 3,
          "solution": true,
          "task": false
        },
        "colab": {
          "base_uri": "https://localhost:8080/",
          "height": 442
        },
        "id": "0vJABBpN3y36",
        "outputId": "8703a569-9734-42c8-9596-2706d57d105b"
      },
      "source": [
        "'''T1. Import data file.'''\n",
        "url = 'https://drive.google.com/uc?export=download&id=1aUnQ4AJK4UtW8JL9zPyYUMtkjIgQpqKT'\n",
        "df = pd.read_csv(url,\n",
        "                 parse_dates=['Inspection Date']).set_index('Inspection Date')\n",
        "# YOUR CODE HERE\n",
        "df.head(3)"
      ],
      "execution_count": 193,
      "outputs": [
        {
          "output_type": "execute_result",
          "data": {
            "text/html": [
              "<div>\n",
              "<style scoped>\n",
              "    .dataframe tbody tr th:only-of-type {\n",
              "        vertical-align: middle;\n",
              "    }\n",
              "\n",
              "    .dataframe tbody tr th {\n",
              "        vertical-align: top;\n",
              "    }\n",
              "\n",
              "    .dataframe thead th {\n",
              "        text-align: right;\n",
              "    }\n",
              "</style>\n",
              "<table border=\"1\" class=\"dataframe\">\n",
              "  <thead>\n",
              "    <tr style=\"text-align: right;\">\n",
              "      <th></th>\n",
              "      <th>Inspection ID</th>\n",
              "      <th>DBA Name</th>\n",
              "      <th>AKA Name</th>\n",
              "      <th>License #</th>\n",
              "      <th>Facility Type</th>\n",
              "      <th>Risk</th>\n",
              "      <th>Address</th>\n",
              "      <th>City</th>\n",
              "      <th>State</th>\n",
              "      <th>Zip</th>\n",
              "      <th>Inspection Type</th>\n",
              "      <th>Violations</th>\n",
              "      <th>Latitude</th>\n",
              "      <th>Longitude</th>\n",
              "      <th>Location</th>\n",
              "      <th>Fail</th>\n",
              "      <th>Serious Violations Found</th>\n",
              "    </tr>\n",
              "    <tr>\n",
              "      <th>Inspection Date</th>\n",
              "      <th></th>\n",
              "      <th></th>\n",
              "      <th></th>\n",
              "      <th></th>\n",
              "      <th></th>\n",
              "      <th></th>\n",
              "      <th></th>\n",
              "      <th></th>\n",
              "      <th></th>\n",
              "      <th></th>\n",
              "      <th></th>\n",
              "      <th></th>\n",
              "      <th></th>\n",
              "      <th></th>\n",
              "      <th></th>\n",
              "      <th></th>\n",
              "      <th></th>\n",
              "    </tr>\n",
              "  </thead>\n",
              "  <tbody>\n",
              "    <tr>\n",
              "      <th>2017-09-15</th>\n",
              "      <td>2088270</td>\n",
              "      <td>TOM YUM RICE &amp; NOODLE, INC.</td>\n",
              "      <td>TOM YUM CAFE</td>\n",
              "      <td>2354911.0</td>\n",
              "      <td>Restaurant</td>\n",
              "      <td>Risk 1 (High)</td>\n",
              "      <td>608 W BARRY</td>\n",
              "      <td>CHICAGO</td>\n",
              "      <td>IL</td>\n",
              "      <td>60657.0</td>\n",
              "      <td>Canvass</td>\n",
              "      <td>3. POTENTIALLY HAZARDOUS FOOD MEETS TEMPERATUR...</td>\n",
              "      <td>41.938007</td>\n",
              "      <td>-87.644755</td>\n",
              "      <td>{'longitude': '-87.6447545707008', 'latitude':...</td>\n",
              "      <td>1</td>\n",
              "      <td>2.0</td>\n",
              "    </tr>\n",
              "    <tr>\n",
              "      <th>2011-10-20</th>\n",
              "      <td>555268</td>\n",
              "      <td>FILLING STATION  &amp; CONVENIENCE  STORE</td>\n",
              "      <td>FILLING STATION  &amp; CONVENIENCE  STORE</td>\n",
              "      <td>1044901.0</td>\n",
              "      <td>Grocery Store</td>\n",
              "      <td>Risk 3 (Low)</td>\n",
              "      <td>6646-6658 S WESTERN AVE</td>\n",
              "      <td>CHICAGO</td>\n",
              "      <td>IL</td>\n",
              "      <td>60636.0</td>\n",
              "      <td>Complaint Re-Inspection</td>\n",
              "      <td>32. FOOD AND NON-FOOD CONTACT SURFACES PROPERL...</td>\n",
              "      <td>41.772402</td>\n",
              "      <td>-87.683603</td>\n",
              "      <td>{'longitude': '-87.68360273081268', 'latitude'...</td>\n",
              "      <td>0</td>\n",
              "      <td>0.0</td>\n",
              "    </tr>\n",
              "    <tr>\n",
              "      <th>2016-04-05</th>\n",
              "      <td>1751394</td>\n",
              "      <td>A P DELI</td>\n",
              "      <td>A P DELI</td>\n",
              "      <td>47405.0</td>\n",
              "      <td>Restaurant</td>\n",
              "      <td>Risk 1 (High)</td>\n",
              "      <td>2025 E 75TH ST</td>\n",
              "      <td>CHICAGO</td>\n",
              "      <td>IL</td>\n",
              "      <td>60649.0</td>\n",
              "      <td>Canvass Re-Inspection</td>\n",
              "      <td>35. WALLS, CEILINGS, ATTACHED EQUIPMENT CONSTR...</td>\n",
              "      <td>41.758779</td>\n",
              "      <td>-87.575054</td>\n",
              "      <td>{'longitude': '-87.57505446746121', 'latitude'...</td>\n",
              "      <td>0</td>\n",
              "      <td>0.0</td>\n",
              "    </tr>\n",
              "  </tbody>\n",
              "</table>\n",
              "</div>"
            ],
            "text/plain": [
              "                 Inspection ID  ... Serious Violations Found\n",
              "Inspection Date                 ...                         \n",
              "2017-09-15             2088270  ...                      2.0\n",
              "2011-10-20              555268  ...                      0.0\n",
              "2016-04-05             1751394  ...                      0.0\n",
              "\n",
              "[3 rows x 17 columns]"
            ]
          },
          "metadata": {},
          "execution_count": 193
        }
      ]
    },
    {
      "cell_type": "markdown",
      "metadata": {
        "deletable": false,
        "editable": false,
        "nbgrader": {
          "cell_type": "markdown",
          "checksum": "493ede874f1e2c163a74021a41d8775d",
          "grade": false,
          "grade_id": "cell-1b2eb047117d89ab",
          "locked": true,
          "schema_version": 3,
          "solution": false,
          "task": false
        },
        "id": "sWxBGaBs3y37"
      },
      "source": [
        "**Task 1 Test**"
      ]
    },
    {
      "cell_type": "code",
      "metadata": {
        "deletable": false,
        "editable": false,
        "nbgrader": {
          "cell_type": "code",
          "checksum": "0d68298cfa23877cd61b8ba487c19dc6",
          "grade": true,
          "grade_id": "cell-e9593d4f4ed7a9bb",
          "locked": true,
          "points": 1,
          "schema_version": 3,
          "solution": false,
          "task": false
        },
        "id": "QwHl-vua3y37"
      },
      "source": [
        "'''T1 Test'''\n",
        "assert isinstance(df, pd.DataFrame), 'Have you created a DataFrame named `df`?'\n",
        "assert len(df) == 51916"
      ],
      "execution_count": 194,
      "outputs": []
    },
    {
      "cell_type": "markdown",
      "metadata": {
        "deletable": false,
        "editable": false,
        "nbgrader": {
          "cell_type": "markdown",
          "checksum": "1ee62609b3bf18520406b3837f7843a6",
          "grade": false,
          "grade_id": "cell-9e90dce33ddd0506",
          "locked": true,
          "schema_version": 3,
          "solution": false,
          "task": false
        },
        "id": "8hSLnrhP3y38"
      },
      "source": [
        "**Task 2:** Given that this model is supposed to generate predictions *before* an inspection is conducted, identify the numerical feature that is an example of **data leakage.** Assign the column name to the variable `'leaky_col'`.\n",
        "\n",
        "**Remember:** Leakage is when your feature matrix includes columns that will not be available to your model at the time it make predictions.\n",
        "\n"
      ]
    },
    {
      "cell_type": "code",
      "metadata": {
        "deletable": false,
        "nbgrader": {
          "cell_type": "code",
          "checksum": "27b878765c52a092c3c56791dde91d5d",
          "grade": false,
          "grade_id": "cell-ef24afc9168ad64f",
          "locked": false,
          "schema_version": 3,
          "solution": true,
          "task": false
        },
        "id": "Xb0Q1v243y39"
      },
      "source": [
        "'''T2. Identify data leakage column.'''\n",
        "leaky_col = 'Serious Violations Found'\n",
        "# YOUR CODE HERE\n"
      ],
      "execution_count": 195,
      "outputs": []
    },
    {
      "cell_type": "markdown",
      "metadata": {
        "deletable": false,
        "editable": false,
        "nbgrader": {
          "cell_type": "markdown",
          "checksum": "9874ad6b513dd2c2e409aa1d6610a65e",
          "grade": false,
          "grade_id": "cell-378fd448d54e6fc0",
          "locked": true,
          "schema_version": 3,
          "solution": false,
          "task": false
        },
        "id": "1InNOKnJ3y39"
      },
      "source": [
        "**Task 2 Test**"
      ]
    },
    {
      "cell_type": "code",
      "metadata": {
        "deletable": false,
        "editable": false,
        "nbgrader": {
          "cell_type": "code",
          "checksum": "5a57c6a47e502a421524daf29beb7941",
          "grade": true,
          "grade_id": "cell-8429f30efb2a7bf7",
          "locked": true,
          "points": 1,
          "schema_version": 3,
          "solution": false,
          "task": false
        },
        "id": "gx0MZBq93y39"
      },
      "source": [
        "'''T2 Test'''\n",
        "# This is a hidden test. \n",
        "# You'll see the result when you submit to Canvas.\n",
        "assert isinstance(leaky_col, str), '`leaky_col` should be type `str`.'"
      ],
      "execution_count": 196,
      "outputs": []
    },
    {
      "cell_type": "markdown",
      "metadata": {
        "deletable": false,
        "editable": false,
        "nbgrader": {
          "cell_type": "markdown",
          "checksum": "b17eb5d6c465729f58b1739a11ea5b96",
          "grade": false,
          "grade_id": "cell-2f7298cea62c493e",
          "locked": true,
          "schema_version": 3,
          "solution": false,
          "task": false
        },
        "id": "jZSsdmef3y3-"
      },
      "source": [
        "**Task 3:** Add to the `wrangle` function below so that it does the following:\n",
        "\n",
        "- Removes the \"leaky\" column.\n",
        "- Removes high-cardinality categorical columns (more than `500` categories).\n",
        "- Removes categorical columns that have only one category.\n",
        "- Removes numerical columns that are unique identifiers for each observation, not features that would affect the target."
      ]
    },
    {
      "cell_type": "code",
      "metadata": {
        "deletable": false,
        "nbgrader": {
          "cell_type": "code",
          "checksum": "40e1745bb407a170e1dec8221d37fc3c",
          "grade": false,
          "grade_id": "cell-d6fc5ee398afff4f",
          "locked": false,
          "schema_version": 3,
          "solution": true,
          "task": false
        },
        "id": "HxE7YRF43y3-"
      },
      "source": [
        "'''T3. Write wrangle function.'''\n",
        "def wrangle(df):\n",
        "\n",
        "  Cat_cols = df.select_dtypes('object').nunique().reset_index()\n",
        "  cols_to_drop = Cat_cols[(Cat_cols[0]>500) | (Cat_cols[0]<2)]['index'].to_list()\n",
        "\n",
        "  df.drop(columns=cols_to_drop,inplace=True)\n",
        "  df.drop(columns=['Serious Violations Found','Inspection ID','License #'],inplace=True)\n",
        "\n",
        "  return df\n",
        "# YOUR CODE HERE\n",
        "\n",
        "df = wrangle(df)"
      ],
      "execution_count": 197,
      "outputs": []
    },
    {
      "cell_type": "markdown",
      "metadata": {
        "deletable": false,
        "editable": false,
        "nbgrader": {
          "cell_type": "markdown",
          "checksum": "22afb4a381b73f41b02f83ca4a0102bd",
          "grade": false,
          "grade_id": "cell-7b5d539f39db8415",
          "locked": true,
          "schema_version": 3,
          "solution": false,
          "task": false
        },
        "id": "xzV3v66H3y3-"
      },
      "source": [
        "**Task 3 Test**"
      ]
    },
    {
      "cell_type": "code",
      "metadata": {
        "deletable": false,
        "editable": false,
        "nbgrader": {
          "cell_type": "code",
          "checksum": "05d5f964ad8d8bf468bd907abaa85213",
          "grade": true,
          "grade_id": "cell-49f495efb58bcd9f",
          "locked": true,
          "points": 1,
          "schema_version": 3,
          "solution": false,
          "task": false
        },
        "id": "tF_8nTpb3y3_"
      },
      "source": [
        "'''T3 Test'''\n",
        "assert df.select_dtypes('object').nunique().max() < 500, 'Have you dropped the high-cardinality columns?'\n",
        "assert df.select_dtypes('object').nunique().min() > 1, 'Have you dropped the column with only one category?'"
      ],
      "execution_count": 198,
      "outputs": []
    },
    {
      "cell_type": "markdown",
      "metadata": {
        "deletable": false,
        "editable": false,
        "nbgrader": {
          "cell_type": "markdown",
          "checksum": "f93a157b989f3327402d7b93a31bb595",
          "grade": false,
          "grade_id": "cell-aea953fa5337fc1f",
          "locked": true,
          "schema_version": 3,
          "solution": false,
          "task": false
        },
        "id": "kG3XqfgY3y3_"
      },
      "source": [
        "# II. Split Data\n",
        "\n",
        "**Task 4:** Split the DataFrame `df` into the feature matrix `X` and the target vector `y`. Your target is `'Fail'`."
      ]
    },
    {
      "cell_type": "code",
      "metadata": {
        "deletable": false,
        "nbgrader": {
          "cell_type": "code",
          "checksum": "7bfd4151db9dd6615a624da2954138e8",
          "grade": false,
          "grade_id": "cell-b21b1c40f5478337",
          "locked": false,
          "schema_version": 3,
          "solution": true,
          "task": false
        },
        "id": "S9pAm_rz3y3_"
      },
      "source": [
        "'''T4. Split feature matrix and target vector.'''\n",
        "target = 'Fail'\n",
        "# YOUR CODE HERE\n",
        "X = df.drop(columns='Fail')\n",
        "y = df['Fail']"
      ],
      "execution_count": 199,
      "outputs": []
    },
    {
      "cell_type": "markdown",
      "metadata": {
        "deletable": false,
        "editable": false,
        "nbgrader": {
          "cell_type": "markdown",
          "checksum": "2f00ae85d10438328017da8b01b77354",
          "grade": false,
          "grade_id": "cell-d9a64e5a6bd2a37d",
          "locked": true,
          "schema_version": 3,
          "solution": false,
          "task": false
        },
        "id": "gaRRdl7D3y3_"
      },
      "source": [
        "**Task 4 Test**"
      ]
    },
    {
      "cell_type": "code",
      "metadata": {
        "deletable": false,
        "editable": false,
        "nbgrader": {
          "cell_type": "code",
          "checksum": "04db76e9023f0b61187af1e39513d377",
          "grade": true,
          "grade_id": "cell-a1d912e28c9f7522",
          "locked": true,
          "points": 1,
          "schema_version": 3,
          "solution": false,
          "task": false
        },
        "id": "89dLy4BX3y4A"
      },
      "source": [
        "'''T4 Test'''\n",
        "assert y.shape == (51916,), '`y` either has the wrong number of rows, or is two-dimentional.'\n",
        "assert len(X) == 51916, '`X` has the wrong number of rows.'"
      ],
      "execution_count": 200,
      "outputs": []
    },
    {
      "cell_type": "markdown",
      "metadata": {
        "deletable": false,
        "editable": false,
        "nbgrader": {
          "cell_type": "markdown",
          "checksum": "e719471298c6c418489a657a500b7d0e",
          "grade": false,
          "grade_id": "cell-b575fbda93b87f6a",
          "locked": true,
          "schema_version": 3,
          "solution": false,
          "task": false
        },
        "id": "wyMMtqxA3y4A"
      },
      "source": [
        "**Task 5:** Split your dataset into training and validation sets.\n",
        "\n",
        "- Your training set (`X_train`, `y_train`) should contain inspections conducted before 2017.\n",
        "- Your validation set (`X_val`, `y_val`) should contain inspections conducted during or after 2017."
      ]
    },
    {
      "cell_type": "code",
      "metadata": {
        "deletable": false,
        "nbgrader": {
          "cell_type": "code",
          "checksum": "f92b2b9f9460a17c987c23188e3c31b1",
          "grade": false,
          "grade_id": "cell-0bb47689fd4667ed",
          "locked": false,
          "schema_version": 3,
          "solution": true,
          "task": false
        },
        "colab": {
          "base_uri": "https://localhost:8080/"
        },
        "id": "GmUuVovE3y4B",
        "outputId": "f6e34eeb-d724-44d4-93bf-6146adc23f31"
      },
      "source": [
        "'''T5. Split dataset into training and validation sets.'''\n",
        "# YOUR CODE HERE\n",
        "mask = (df.index < \"2017\")\n",
        "\n",
        "X_train = X.loc[mask]\n",
        "y_train = y.loc[mask]\n",
        "\n",
        "X_val = X.loc[~mask]\n",
        "y_val = y.loc[~mask]\n",
        "\n",
        "X_train.shape, y_train.shape, X_val.shape, y_val.shape"
      ],
      "execution_count": 201,
      "outputs": [
        {
          "output_type": "execute_result",
          "data": {
            "text/plain": [
              "((41827, 7), (41827,), (10089, 7), (10089,))"
            ]
          },
          "metadata": {},
          "execution_count": 201
        }
      ]
    },
    {
      "cell_type": "markdown",
      "metadata": {
        "deletable": false,
        "editable": false,
        "nbgrader": {
          "cell_type": "markdown",
          "checksum": "60e77b85e7db0d0cb2522b8caa399e77",
          "grade": false,
          "grade_id": "cell-8517b2d477256843",
          "locked": true,
          "schema_version": 3,
          "solution": false,
          "task": false
        },
        "id": "DA-oahhX3y4B"
      },
      "source": [
        "**Task 5 Testing**"
      ]
    },
    {
      "cell_type": "code",
      "metadata": {
        "deletable": false,
        "editable": false,
        "nbgrader": {
          "cell_type": "code",
          "checksum": "56e9e6ef918d3a662decf3f6d67dfd01",
          "grade": true,
          "grade_id": "cell-52cf3ef1934a4278",
          "locked": true,
          "points": 1,
          "schema_version": 3,
          "solution": false,
          "task": false
        },
        "id": "orOTC7Wm3y4B"
      },
      "source": [
        "'''T5 Test'''\n",
        "assert len(X_train) == len(y_train) == 41827, 'Your training set has the wrong number of observations.'\n",
        "assert len(X_val) == len(y_val) == 10089, 'Your validation set has the wrong number of observations.'"
      ],
      "execution_count": 202,
      "outputs": []
    },
    {
      "cell_type": "markdown",
      "metadata": {
        "deletable": false,
        "editable": false,
        "nbgrader": {
          "cell_type": "markdown",
          "checksum": "0641d242faca29af591ebea98bc88ed6",
          "grade": false,
          "grade_id": "cell-2e9a4c74f50ed0fc",
          "locked": true,
          "schema_version": 3,
          "solution": false,
          "task": false
        },
        "id": "qS7H_DVh3y4C"
      },
      "source": [
        "# III. Establish Baseline\n",
        "\n",
        "**Task 6:** Establish the baseline accuracy score for this classification problem using your training set. Save the score to the variable `baseline_acc`."
      ]
    },
    {
      "cell_type": "code",
      "metadata": {
        "deletable": false,
        "nbgrader": {
          "cell_type": "code",
          "checksum": "b658c6901efe4fe564387be697265352",
          "grade": false,
          "grade_id": "cell-3d21cc97649be107",
          "locked": false,
          "schema_version": 3,
          "solution": true,
          "task": false
        },
        "colab": {
          "base_uri": "https://localhost:8080/"
        },
        "id": "p21L8Orq3y4C",
        "outputId": "e046e966-d022-4d3d-f42c-69225d094d9f"
      },
      "source": [
        "'''T6. Establish baseline accuracy.'''\n",
        "# YOUR CODE HERE\n",
        "baseline_acc = y_train.value_counts(normalize=True).max()\n",
        "print('Baseline accuracy:', baseline_acc)"
      ],
      "execution_count": 203,
      "outputs": [
        {
          "output_type": "stream",
          "name": "stdout",
          "text": [
            "Baseline accuracy: 0.7506634470557295\n"
          ]
        }
      ]
    },
    {
      "cell_type": "markdown",
      "metadata": {
        "deletable": false,
        "editable": false,
        "nbgrader": {
          "cell_type": "markdown",
          "checksum": "6098c9452685d029c07b96f5295b5c1d",
          "grade": false,
          "grade_id": "cell-56d5801c8831c15b",
          "locked": true,
          "schema_version": 3,
          "solution": false,
          "task": false
        },
        "id": "KJuFqWUT3y4C"
      },
      "source": [
        "**Task 6 Testing**"
      ]
    },
    {
      "cell_type": "code",
      "metadata": {
        "deletable": false,
        "editable": false,
        "nbgrader": {
          "cell_type": "code",
          "checksum": "8527a8f2e79c09d69519059e56c54272",
          "grade": true,
          "grade_id": "cell-abdc4cbe95e9d1da",
          "locked": true,
          "points": 1,
          "schema_version": 3,
          "solution": false,
          "task": false
        },
        "id": "TUkCVjEg3y4D"
      },
      "source": [
        "'''T6 Test'''\n",
        "assert isinstance(baseline_acc, float), '`baseline_acc` should be type float. Have you defined the variable?'\n",
        "assert 0.0 <= baseline_acc <= 1.0"
      ],
      "execution_count": 204,
      "outputs": []
    },
    {
      "cell_type": "markdown",
      "metadata": {
        "deletable": false,
        "editable": false,
        "nbgrader": {
          "cell_type": "markdown",
          "checksum": "8a0f7eab56c05e92a441333652ccf6cf",
          "grade": false,
          "grade_id": "cell-7d68939c4eced62c",
          "locked": true,
          "schema_version": 3,
          "solution": false,
          "task": false
        },
        "id": "ubRUeV7L3y4D"
      },
      "source": [
        "# IV. Build Model\n",
        "\n",
        "In this section, you want to answer the question: Which ensemble method performs better with this data — bagging or boosting?\n",
        "\n",
        "**Task 7:** Build a model that includes a bagging predictor (`RandomForest`). Your predictor should be part of a pipeline named `model_bag` that includes any transformers that you think are necessary."
      ]
    },
    {
      "cell_type": "code",
      "metadata": {
        "deletable": false,
        "nbgrader": {
          "cell_type": "code",
          "checksum": "49a48b340c0ee7f9630c3ce57e4ca439",
          "grade": false,
          "grade_id": "cell-889285d53fdbe282",
          "locked": false,
          "schema_version": 3,
          "solution": true,
          "task": false
        },
        "id": "6tJN4Xhv3y4D"
      },
      "source": [
        "'''T7. Build model with bagging predictor.'''\n",
        "# YOUR CODE HERE\n",
        "\n",
        "model_bag = make_pipeline(\n",
        "    OrdinalEncoder(),\n",
        "    SimpleImputer(),\n",
        "    RandomForestClassifier()\n",
        ")\n",
        "\n",
        "\n",
        "model_bag.fit(X_train, y_train);"
      ],
      "execution_count": 205,
      "outputs": []
    },
    {
      "cell_type": "markdown",
      "metadata": {
        "deletable": false,
        "editable": false,
        "nbgrader": {
          "cell_type": "markdown",
          "checksum": "81055fe5d87448fd8e4aff2ca4f10ea0",
          "grade": false,
          "grade_id": "cell-72dac6ede9a13038",
          "locked": true,
          "schema_version": 3,
          "solution": false,
          "task": false
        },
        "id": "4wGahOtV3y4E"
      },
      "source": [
        "**Tast 7 Testing**"
      ]
    },
    {
      "cell_type": "code",
      "metadata": {
        "deletable": false,
        "editable": false,
        "nbgrader": {
          "cell_type": "code",
          "checksum": "57725e1ca8a837d8fa761271f994ad44",
          "grade": true,
          "grade_id": "cell-cddc5d7d2170877b",
          "locked": true,
          "points": 1,
          "schema_version": 3,
          "solution": false,
          "task": false
        },
        "id": "YhROFUr03y4E"
      },
      "source": [
        "'''T7 Testing'''\n",
        "from sklearn.pipeline import Pipeline\n",
        "from sklearn.ensemble import RandomForestClassifier\n",
        "assert isinstance(model_bag, Pipeline), '`model_bag` is the wrong data type. Have you assigned your pipeline to the correct variable name?'\n",
        "assert isinstance(model_bag[-1], RandomForestClassifier), 'Your predictor should be a `RandomForestClassifier`.'\n",
        "assert hasattr(model_bag[-1], 'feature_importances_'), 'Have you trained your model?'"
      ],
      "execution_count": 206,
      "outputs": []
    },
    {
      "cell_type": "markdown",
      "metadata": {
        "deletable": false,
        "editable": false,
        "nbgrader": {
          "cell_type": "markdown",
          "checksum": "5e3c031075213c671f8f9b321585e9eb",
          "grade": false,
          "grade_id": "cell-d9750931390fe58f",
          "locked": true,
          "schema_version": 3,
          "solution": false,
          "task": false
        },
        "id": "Gu0xsk_H3y4E"
      },
      "source": [
        "**Task 8:** Build a model that includes a boosting predictor (`GradientBoostingClassifier` from `sklearn` or `XGBClassifier` from `xgboost`). Your predictor should be part of a pipeline named `model_boost` that includes any transformers that you think are necessary. "
      ]
    },
    {
      "cell_type": "code",
      "metadata": {
        "deletable": false,
        "nbgrader": {
          "cell_type": "code",
          "checksum": "a30d11fa6b0d4e143f4572b0baf65afb",
          "grade": false,
          "grade_id": "cell-37f16b5811ae5223",
          "locked": false,
          "schema_version": 3,
          "solution": true,
          "task": false
        },
        "id": "18WvAyro3y4E"
      },
      "source": [
        "'''T8. Build model with boosting predictor.'''\n",
        "# YOUR CODE HERE\n",
        "\n",
        "model_boost = make_pipeline(\n",
        "    OrdinalEncoder(),\n",
        "    SimpleImputer(),\n",
        "    XGBClassifier()\n",
        ")\n",
        "\n",
        "\n",
        "model_boost.fit(X_train, y_train);"
      ],
      "execution_count": 207,
      "outputs": []
    },
    {
      "cell_type": "markdown",
      "metadata": {
        "deletable": false,
        "editable": false,
        "nbgrader": {
          "cell_type": "markdown",
          "checksum": "64d1c2ff5004fe02082dc204299e0e70",
          "grade": false,
          "grade_id": "cell-3699731f62fa5db3",
          "locked": true,
          "schema_version": 3,
          "solution": false,
          "task": false
        },
        "id": "fX6ADfWw3y4E"
      },
      "source": [
        "**Task 8 Testing**"
      ]
    },
    {
      "cell_type": "code",
      "metadata": {
        "deletable": false,
        "editable": false,
        "nbgrader": {
          "cell_type": "code",
          "checksum": "35744289b60d1556e064bc09da544566",
          "grade": true,
          "grade_id": "cell-90deb42a1c052402",
          "locked": true,
          "points": 1,
          "schema_version": 3,
          "solution": false,
          "task": false
        },
        "id": "SgXz4Dna3y4E"
      },
      "source": [
        "'''T8 Testing'''\n",
        "from xgboost import XGBClassifier\n",
        "from sklearn.ensemble import GradientBoostingClassifier\n",
        "assert isinstance(model_boost, Pipeline), '`model_boost` is the wrong data type. Have you assigned your pipeline to the correct variable name?'\n",
        "assert any([isinstance(model_boost[-1], XGBClassifier),\n",
        "            isinstance(model_boost[-1], GradientBoostingClassifier)]), 'Your predictor should be `XGBClassifier` or `GradientBoostingClassifier`.'"
      ],
      "execution_count": 208,
      "outputs": []
    },
    {
      "cell_type": "markdown",
      "metadata": {
        "deletable": false,
        "editable": false,
        "nbgrader": {
          "cell_type": "markdown",
          "checksum": "ebed19854d947c07608d2cb6c356f7ec",
          "grade": false,
          "grade_id": "cell-dc041ac00c805cff",
          "locked": true,
          "schema_version": 3,
          "solution": false,
          "task": false
        },
        "id": "5hTPrVNZ3y4F"
      },
      "source": [
        "# V. Check Metrics\n",
        "\n",
        "Here are the accuracy scores for your two models. Did you beat the baseline? Which of your two models appears to perform better on your validation set?"
      ]
    },
    {
      "cell_type": "code",
      "metadata": {
        "deletable": false,
        "editable": false,
        "nbgrader": {
          "cell_type": "code",
          "checksum": "fc12491c98afa1dd0767422ce0a07b22",
          "grade": false,
          "grade_id": "cell-c0206a761fccab6c",
          "locked": true,
          "schema_version": 3,
          "solution": false,
          "task": false
        },
        "colab": {
          "base_uri": "https://localhost:8080/"
        },
        "id": "IOsnuTVf3y4F",
        "outputId": "08d8139e-196a-4b24-99fd-428f4a0758c5"
      },
      "source": [
        "print('Bagging Model')\n",
        "print('Training accuracy:', model_bag.score(X_train, y_train))\n",
        "print('Validation accuracy:', model_bag.score(X_val, y_val))\n",
        "print()\n",
        "print('Boosting Model')\n",
        "print('Training accuracy:', model_boost.score(X_train, y_train))\n",
        "print('Validation accuracy:', model_boost.score(X_val, y_val))"
      ],
      "execution_count": 209,
      "outputs": [
        {
          "output_type": "stream",
          "name": "stdout",
          "text": [
            "Bagging Model\n",
            "Training accuracy: 0.9077868362540943\n",
            "Validation accuracy: 0.6829219942511646\n",
            "\n",
            "Boosting Model\n",
            "Training accuracy: 0.7546082673870944\n",
            "Validation accuracy: 0.704331450094162\n"
          ]
        }
      ]
    },
    {
      "cell_type": "markdown",
      "metadata": {
        "deletable": false,
        "editable": false,
        "nbgrader": {
          "cell_type": "markdown",
          "checksum": "044f92b1e1321a290f39d2a3d4f756ed",
          "grade": false,
          "grade_id": "cell-17e8e5433e896bc5",
          "locked": true,
          "schema_version": 3,
          "solution": false,
          "task": false
        },
        "id": "P4F_EdBo3y4F"
      },
      "source": [
        "**Task 9 (`stretch_goal`):** Plot the ROC-curve for both of your models (you can plot them one-at-a-time, side-by-side, or in the same plot)."
      ]
    },
    {
      "cell_type": "code",
      "metadata": {
        "deletable": false,
        "nbgrader": {
          "cell_type": "code",
          "checksum": "e4a418ccf53481f58016cf1828e973da",
          "grade": false,
          "grade_id": "cell-769e4a780bb22283",
          "locked": false,
          "schema_version": 3,
          "solution": true,
          "task": false
        },
        "id": "SnzzMEho3y4F"
      },
      "source": [
        "'''T9. Plot ROC-curve.'''\n",
        "# YOUR CODE HERE\n",
        "model_bag_fpr, model_bag_tpr, threshold  = roc_curve(y_val ,model_bag.predict(X_val))\n",
        "\n",
        "model_boost_fpr, model_boost_tpr, threshold  = roc_curve(y_val ,model_boost.predict(X_val))"
      ],
      "execution_count": 210,
      "outputs": []
    },
    {
      "cell_type": "code",
      "metadata": {
        "colab": {
          "base_uri": "https://localhost:8080/",
          "height": 295
        },
        "id": "DUOHgbmoKHff",
        "outputId": "abd5f3c0-6894-46c6-cba7-ca53797ff3b5"
      },
      "source": [
        "plt.plot(model_bag_fpr, model_bag_tpr, label='Bag Model')\n",
        "plt.plot(model_boost_fpr, model_boost_tpr, label='Boost Model')\n",
        "plt.plot([0,1], ls='--')\n",
        "plt.title('ROC curve')\n",
        "plt.xlabel('False Positive Rate')\n",
        "plt.ylabel('True Positive Rate')\n",
        "plt.legend();"
      ],
      "execution_count": 211,
      "outputs": [
        {
          "output_type": "display_data",
          "data": {
            "image/png": "[encoded data removed]",
            "text/plain": [
              "<Figure size 432x288 with 1 Axes>"
            ]
          },
          "metadata": {
            "needs_background": "light"
          }
        }
      ]
    },
    {
      "cell_type": "markdown",
      "metadata": {
        "deletable": false,
        "editable": false,
        "nbgrader": {
          "cell_type": "markdown",
          "checksum": "c2a7559346e95bf6ecd31e90dcefd3be",
          "grade": false,
          "grade_id": "cell-1b8571c3a6a034f5",
          "locked": true,
          "schema_version": 3,
          "solution": false,
          "task": false
        },
        "id": "l63qFR4s3y4G"
      },
      "source": [
        "**Task 10:** Choose one of your models based on your validation accuracy score or your ROC curves. Then create a classification report for that model using your validation data. Save the text of the report to the variable name `model_cr`. "
      ]
    },
    {
      "cell_type": "code",
      "metadata": {
        "deletable": false,
        "nbgrader": {
          "cell_type": "code",
          "checksum": "2ef340cbc8ec53da648b929c0bab96ef",
          "grade": false,
          "grade_id": "cell-49891c4ce9bf5f37",
          "locked": false,
          "schema_version": 3,
          "solution": true,
          "task": false
        },
        "colab": {
          "base_uri": "https://localhost:8080/"
        },
        "id": "SFkgj0Fz3y4G",
        "outputId": "b318ab22-8bce-4f31-de91-510b9dd96936"
      },
      "source": [
        "'''T10. Generate classification report for one model.'''\n",
        "from sklearn.metrics import classification_report\n",
        "# YOUR CODE HERE\n",
        "model_cr = classification_report(y_val ,model_bag.predict(X_val))\n",
        "print(model_cr)"
      ],
      "execution_count": 212,
      "outputs": [
        {
          "output_type": "stream",
          "name": "stdout",
          "text": [
            "              precision    recall  f1-score   support\n",
            "\n",
            "           0       0.73      0.86      0.79      7092\n",
            "           1       0.44      0.26      0.33      2997\n",
            "\n",
            "    accuracy                           0.68     10089\n",
            "   macro avg       0.59      0.56      0.56     10089\n",
            "weighted avg       0.65      0.68      0.65     10089\n",
            "\n"
          ]
        }
      ]
    },
    {
      "cell_type": "markdown",
      "metadata": {
        "deletable": false,
        "editable": false,
        "nbgrader": {
          "cell_type": "markdown",
          "checksum": "103296abc9f51aa4b883c35c418275cc",
          "grade": false,
          "grade_id": "cell-7b5374efd0e40c69",
          "locked": true,
          "schema_version": 3,
          "solution": false,
          "task": false
        },
        "id": "4VgjALDG3y4G"
      },
      "source": [
        "**Task 10 Testing**"
      ]
    },
    {
      "cell_type": "code",
      "metadata": {
        "deletable": false,
        "editable": false,
        "nbgrader": {
          "cell_type": "code",
          "checksum": "110853de9aaaba37cb2fe601091b1e7d",
          "grade": true,
          "grade_id": "cell-94e04c938f3f5f84",
          "locked": true,
          "points": 1,
          "schema_version": 3,
          "solution": false,
          "task": false
        },
        "id": "T4IwIU5G3y4G"
      },
      "source": [
        "assert isinstance(model_cr, str), '`model_cr` should be type `str`.'\n",
        "assert all(term in model_cr for term in ['precision', 'recall', 'f1-score', 'support']), 'Is this a classification report?'"
      ],
      "execution_count": 213,
      "outputs": []
    },
    {
      "cell_type": "markdown",
      "metadata": {
        "deletable": false,
        "editable": false,
        "nbgrader": {
          "cell_type": "markdown",
          "checksum": "00449a4317e9b4d383f2ca7d58a2b0af",
          "grade": false,
          "grade_id": "cell-d2b4843352d3085a",
          "locked": true,
          "schema_version": 3,
          "solution": false,
          "task": false
        },
        "id": "wUTbQX653y4H"
      },
      "source": [
        "**Task 11:** Using your best model, create a DataFrame `permutation_importances` with the model's permutation importances based on your validation data.\n",
        "\n",
        "- The index of the DataFrame should be your feature names.\n",
        "- The first column should be the mean importance.\n",
        "- The second column should be the importance standard deviation."
      ]
    },
    {
      "cell_type": "code",
      "metadata": {
        "deletable": false,
        "nbgrader": {
          "cell_type": "code",
          "checksum": "f8e984b2a5083b74b7eb0abec46f8d63",
          "grade": false,
          "grade_id": "cell-72936eec6980072b",
          "locked": false,
          "schema_version": 3,
          "solution": true,
          "task": false
        },
        "id": "YJSz4hoP3y4H"
      },
      "source": [
        "'''T11. Create DataFrame of permutation importances.'''\n",
        "# YOUR CODE HERE\n",
        "raw_importances = permutation_importance(model_bag, X_val, y_val, random_state=42)"
      ],
      "execution_count": 214,
      "outputs": []
    },
    {
      "cell_type": "code",
      "metadata": {
        "colab": {
          "base_uri": "https://localhost:8080/",
          "height": 264
        },
        "id": "pnumhhtj-4Tg",
        "outputId": "b4e90e7c-a76f-4f03-d5ce-fffef71fe7f2"
      },
      "source": [
        "cols_importances = {'importances_mean':raw_importances['importances_mean'],\n",
        "                    'importances_std':raw_importances['importances_std'] }\n",
        "permutation_importances = pd.DataFrame(cols_importances, index=X_val.columns)\n",
        "\n",
        "permutation_importances"
      ],
      "execution_count": 215,
      "outputs": [
        {
          "output_type": "execute_result",
          "data": {
            "text/html": [
              "<div>\n",
              "<style scoped>\n",
              "    .dataframe tbody tr th:only-of-type {\n",
              "        vertical-align: middle;\n",
              "    }\n",
              "\n",
              "    .dataframe tbody tr th {\n",
              "        vertical-align: top;\n",
              "    }\n",
              "\n",
              "    .dataframe thead th {\n",
              "        text-align: right;\n",
              "    }\n",
              "</style>\n",
              "<table border=\"1\" class=\"dataframe\">\n",
              "  <thead>\n",
              "    <tr style=\"text-align: right;\">\n",
              "      <th></th>\n",
              "      <th>importances_mean</th>\n",
              "      <th>importances_std</th>\n",
              "    </tr>\n",
              "  </thead>\n",
              "  <tbody>\n",
              "    <tr>\n",
              "      <th>Facility Type</th>\n",
              "      <td>0.004123</td>\n",
              "      <td>0.001027</td>\n",
              "    </tr>\n",
              "    <tr>\n",
              "      <th>Risk</th>\n",
              "      <td>-0.000238</td>\n",
              "      <td>0.001819</td>\n",
              "    </tr>\n",
              "    <tr>\n",
              "      <th>City</th>\n",
              "      <td>-0.000139</td>\n",
              "      <td>0.000161</td>\n",
              "    </tr>\n",
              "    <tr>\n",
              "      <th>Zip</th>\n",
              "      <td>-0.009793</td>\n",
              "      <td>0.002146</td>\n",
              "    </tr>\n",
              "    <tr>\n",
              "      <th>Inspection Type</th>\n",
              "      <td>0.036356</td>\n",
              "      <td>0.003314</td>\n",
              "    </tr>\n",
              "    <tr>\n",
              "      <th>Latitude</th>\n",
              "      <td>-0.006899</td>\n",
              "      <td>0.001779</td>\n",
              "    </tr>\n",
              "    <tr>\n",
              "      <th>Longitude</th>\n",
              "      <td>-0.001963</td>\n",
              "      <td>0.001737</td>\n",
              "    </tr>\n",
              "  </tbody>\n",
              "</table>\n",
              "</div>"
            ],
            "text/plain": [
              "                 importances_mean  importances_std\n",
              "Facility Type            0.004123         0.001027\n",
              "Risk                    -0.000238         0.001819\n",
              "City                    -0.000139         0.000161\n",
              "Zip                     -0.009793         0.002146\n",
              "Inspection Type          0.036356         0.003314\n",
              "Latitude                -0.006899         0.001779\n",
              "Longitude               -0.001963         0.001737"
            ]
          },
          "metadata": {},
          "execution_count": 215
        }
      ]
    },
    {
      "cell_type": "markdown",
      "metadata": {
        "deletable": false,
        "editable": false,
        "nbgrader": {
          "cell_type": "markdown",
          "checksum": "dccb1015d0f5c2f8b23f780eb8e4abf7",
          "grade": false,
          "grade_id": "cell-9eb949d189e401bc",
          "locked": true,
          "schema_version": 3,
          "solution": false,
          "task": false
        },
        "id": "NrwV2Tm-3y4H"
      },
      "source": [
        "**Task 11 Testing**"
      ]
    },
    {
      "cell_type": "code",
      "metadata": {
        "deletable": false,
        "editable": false,
        "nbgrader": {
          "cell_type": "code",
          "checksum": "d84e55cd6e77a52c576972ab68477c90",
          "grade": true,
          "grade_id": "cell-a4d8990e7070c2dd",
          "locked": true,
          "points": 1,
          "schema_version": 3,
          "solution": false,
          "task": false
        },
        "id": "sRDuCwtE3y4H"
      },
      "source": [
        "'''Task 11 Test'''\n",
        "assert isinstance(permutation_importances, pd.DataFrame), '`permutation_importances` should be type `DataFrame`.'\n",
        "assert permutation_importances.shape == (7,2)"
      ],
      "execution_count": 216,
      "outputs": []
    },
    {
      "cell_type": "markdown",
      "metadata": {
        "deletable": false,
        "editable": false,
        "nbgrader": {
          "cell_type": "markdown",
          "checksum": "f005618a5eb29cde9fbc73ab717b0e1c",
          "grade": false,
          "grade_id": "cell-3d8938c1715a596d",
          "locked": true,
          "schema_version": 3,
          "solution": false,
          "task": false
        },
        "id": "B4l0V5HA3y4H"
      },
      "source": [
        "**Task 12 (`stretch goal`):** Using your best model, create a PDP interaction plot to examine how `'Latitude'` and `'Longitude'` inform predictions. Remember to user your validation data.\n",
        "\n",
        "**Note:** Because of the way that `pdp_interact` works, it will throw an error if there are `NaN` values in your validation set. To avoid this problem, be sure to set `dataset` to `X_val.dropna()`."
      ]
    },
    {
      "cell_type": "code",
      "metadata": {
        "deletable": false,
        "nbgrader": {
          "cell_type": "code",
          "checksum": "ea5a8422d2efafe17ee63a77c5db1e41",
          "grade": false,
          "grade_id": "cell-224d3b408f9bdd88",
          "locked": false,
          "schema_version": 3,
          "solution": true,
          "task": false
        },
        "colab": {
          "base_uri": "https://localhost:8080/",
          "height": 581
        },
        "id": "GGx0iFRE3y4I",
        "outputId": "50df4cce-7b45-4b1c-e0e3-5a53e7432a88"
      },
      "source": [
        "'''T12. Create PDP interaction plot for \"Latitude\" and \"Longitude\".'''\n",
        "features = ['Longitude', 'Latitude']\n",
        "# YOUR CODE HERE\n",
        "\n",
        "interact = pdp_interact(\n",
        "    model_bag,\n",
        "    dataset= X_val.dropna(),\n",
        "    model_features=X_val.columns,\n",
        "    features=features\n",
        ")\n",
        "\n",
        "pdp_interact_plot(interact, plot_type='grid',feature_names=features);"
      ],
      "execution_count": 217,
      "outputs": [
        {
          "output_type": "display_data",
          "data": {
            "image/png": "[encoded data removed]",
            "text/plain": [
              "<Figure size 540x684 with 3 Axes>"
            ]
          },
          "metadata": {
            "needs_background": "light"
          }
        }
      ]
    },
    {
      "cell_type": "markdown",
      "metadata": {
        "deletable": false,
        "editable": false,
        "nbgrader": {
          "cell_type": "markdown",
          "checksum": "ea11277dc1543cb3a51dc7cf050af8a9",
          "grade": false,
          "grade_id": "cell-60908df556f5057e",
          "locked": true,
          "schema_version": 3,
          "solution": false,
          "task": false
        },
        "id": "OFn8fCsT3y4I"
      },
      "source": [
        "What do you think? Is there a relationship between location and failing a food saftey inspection?"
      ]
    }
  ]
}